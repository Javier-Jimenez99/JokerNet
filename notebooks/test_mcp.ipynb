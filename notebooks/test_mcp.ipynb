{
 "cells": [
  {
   "cell_type": "code",
   "execution_count": 2,
   "id": "16b1ce17",
   "metadata": {},
   "outputs": [
    {
     "data": {
      "text/plain": [
       "<Response [200]>"
      ]
     },
     "execution_count": 2,
     "metadata": {},
     "output_type": "execute_result"
    }
   ],
   "source": [
    "import requests\n",
    "\n",
    "response = requests.get(\"http://localhost:8000/health\")\n",
    "response"
   ]
  },
  {
   "cell_type": "code",
   "execution_count": 50,
   "id": "900aeb38",
   "metadata": {},
   "outputs": [
    {
     "name": "stdout",
     "output_type": "stream",
     "text": [
      "get_mouse_position Get the current mouse position in pixel coordinates. Also returns current screen dimensions.\n",
      "mouse_click Click at a specific coordinate on the screen using pixel coordinates. Screen resolution: 1920x1080 pixels. Use exact pixel coordinates for precise clicking.\n",
      "mouse_move Move the mouse cursor to a specific coordinate using pixel coordinates. Screen resolution: 1920x1080 pixels. Use exact pixel coordinates for precise movement.\n",
      "mouse_drag Drag the mouse from start coordinates to end coordinates using pixel coordinates. Screen resolution: 1920x1080 pixels. Use exact pixel coordinates for precise dragging.\n",
      "get_screen_with_cursor Get a screenshot with cursor position visible. The cursor is a light green point inside a larger dark green circle, to make it more visible. Use this to see the current game state and plan your next mouse actions using pixel coordinates. Screen resolution: 1920x1080 pixels. \n"
     ]
    }
   ],
   "source": [
    "from langchain_mcp_adapters.client import MultiServerMCPClient\n",
    "\n",
    "client = MultiServerMCPClient({\n",
    "    \"output_handling\":{\"image\":\"content\"},\n",
    "    \"use_standard_content_blocks\": True,\n",
    "    \"mouse\": {\n",
    "        \"transport\": \"streamable_http\",\n",
    "        \"url\": \"http://localhost:8001/mouse/mcp\",\n",
    "    },\n",
    "    \"gamepad\": {\n",
    "        \"transport\": \"streamable_http\",\n",
    "        \"url\": \"http://localhost:8001/gamepad/mcp\"\n",
    "    }\n",
    "})\n",
    "\n",
    "tools = await client.get_tools(server_name=\"mouse\")\n",
    "for t in tools:\n",
    "    print(t.name, t.description)"
   ]
  },
  {
   "cell_type": "code",
   "execution_count": null,
   "id": "428080a5",
   "metadata": {},
   "outputs": [],
   "source": [
    "tools = await client.get_tools(server_name=\"mouse\")\n",
    "screen_tool = next((t for t in tools if t.name == \"get_screen_with_cursor\"), None)\n",
    "cursor_tool = next((t for t in tools if t.name == \"get_mouse_position\"), None)\n",
    "print(\"Screen Tool Result:\", await screen_tool.ainvoke(input={}))\n",
    "print(\"Cursor Tool Result:\", await cursor_tool.ainvoke(input={}))"
   ]
  },
  {
   "cell_type": "code",
   "execution_count": 47,
   "id": "fc9da412",
   "metadata": {},
   "outputs": [
    {
     "data": {
      "text/plain": [
       "<fastmcp.utilities.types.Image at 0x791d5b457650>"
      ]
     },
     "execution_count": 47,
     "metadata": {},
     "output_type": "execute_result"
    }
   ],
   "source": [
    "import requests\n",
    "from fastmcp.utilities.types import Image\n",
    "\n",
    "res = requests.get(\"http://localhost:8000/screenshot_with_cursor\")\n",
    "Image(data=res.content, format=\"png\")"
   ]
  }
 ],
 "metadata": {
  "kernelspec": {
   "display_name": "jokernet",
   "language": "python",
   "name": "python3"
  },
  "language_info": {
   "codemirror_mode": {
    "name": "ipython",
    "version": 3
   },
   "file_extension": ".py",
   "mimetype": "text/x-python",
   "name": "python",
   "nbconvert_exporter": "python",
   "pygments_lexer": "ipython3",
   "version": "3.11.13"
  }
 },
 "nbformat": 4,
 "nbformat_minor": 5
}

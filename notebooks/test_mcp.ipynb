{
 "cells": [
  {
   "cell_type": "code",
   "execution_count": 2,
   "id": "16b1ce17",
   "metadata": {},
   "outputs": [
    {
     "data": {
      "text/plain": [
       "<Response [200]>"
      ]
     },
     "execution_count": 2,
     "metadata": {},
     "output_type": "execute_result"
    }
   ],
   "source": [
    "import requests\n",
    "\n",
    "response = requests.get(\"http://localhost:8000/health\")\n",
    "response"
   ]
  },
  {
   "cell_type": "code",
   "execution_count": 3,
   "id": "900aeb38",
   "metadata": {},
   "outputs": [
    {
     "name": "stdout",
     "output_type": "stream",
     "text": [
      "get_mouse_position Get the current mouse position in both absolute and relative coordinates.\n",
      "mouse_click Click at a specific coordinate on the screen using relative coordinates (0-1).\n",
      "mouse_move Move the mouse cursor to a specific coordinate using relative coordinates (0-1).\n",
      "mouse_drag Drag the mouse from start coordinates to end coordinates using relative coordinates (0-1).\n",
      "get_screen_with_cursor Get a screenshot with cursor position visible.\n"
     ]
    }
   ],
   "source": [
    "from langchain_mcp_adapters.client import MultiServerMCPClient\n",
    "\n",
    "client = MultiServerMCPClient({\n",
    "    \"mouse\": {\n",
    "        \"transport\": \"streamable_http\",\n",
    "        \"url\": \"http://localhost:8001/mouse/mcp\"\n",
    "    },\n",
    "    \"gamepad\": {\n",
    "        \"transport\": \"streamable_http\",\n",
    "        \"url\": \"http://localhost:8001/gamepad/mcp\"\n",
    "    }\n",
    "})\n",
    "\n",
    "tools = await client.get_tools(server_name=\"mouse\")\n",
    "for t in tools:\n",
    "    print(t.name, t.description)"
   ]
  },
  {
   "cell_type": "code",
   "execution_count": 15,
   "id": "428080a5",
   "metadata": {},
   "outputs": [
    {
     "name": "stdout",
     "output_type": "stream",
     "text": [
      "press_buttons_tool Press a sequence of buttons to control the Balatro game. These buttons are from Xbox controller: A, B, X, Y, LEFT, RIGHT, UP, DOWN, START, SELECT, RB, RT, LB, LT. Example: 'A B LEFT RB'\n",
      "get_screen_tool Get a screenshot of the current state of the Balatro game.\n"
     ]
    }
   ],
   "source": [
    "tools = await client.get_tools(server_name=\"gamepad\")\n",
    "for t in tools:\n",
    "    print(t.name, t.description)"
   ]
  }
 ],
 "metadata": {
  "kernelspec": {
   "display_name": "jokernet",
   "language": "python",
   "name": "python3"
  },
  "language_info": {
   "codemirror_mode": {
    "name": "ipython",
    "version": 3
   },
   "file_extension": ".py",
   "mimetype": "text/x-python",
   "name": "python",
   "nbconvert_exporter": "python",
   "pygments_lexer": "ipython3",
   "version": "3.11.13"
  }
 },
 "nbformat": 4,
 "nbformat_minor": 5
}

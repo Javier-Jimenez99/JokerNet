{
 "cells": [
  {
   "cell_type": "code",
   "execution_count": 4,
   "id": "15f69c5d",
   "metadata": {},
   "outputs": [],
   "source": [
    "%load_ext autoreload\n",
    "%autoreload 2\n",
    "\n",
    "import sys\n",
    "import os\n",
    "\n",
    "# Add project root to Python path\n",
    "root_dir = os.path.abspath(os.path.join(os.getcwd(), '..'))\n",
    "if root_dir not in sys.path:\n",
    "    sys.path.insert(0, root_dir)"
   ]
  },
  {
   "cell_type": "code",
   "execution_count": 5,
   "id": "3004fb6f",
   "metadata": {},
   "outputs": [],
   "source": [
    "from src.agents.worker import create_worker\n",
    "from IPython.display import Image, display\n",
    "from dotenv import load_dotenv\n",
    "\n",
    "load_dotenv()\n",
    "\n",
    "worker_agent = await create_worker(server_name=\"mouse\")\n",
    "#display(Image(worker_agent.get_graph().draw_mermaid_png()))"
   ]
  },
  {
   "cell_type": "code",
   "execution_count": 6,
   "id": "ab3f86b7",
   "metadata": {},
   "outputs": [
    {
     "data": {
      "text/plain": [
       "{'success': False, 'reason': 'max_iterations'}"
      ]
     },
     "execution_count": 6,
     "metadata": {},
     "output_type": "execute_result"
    }
   ],
   "source": [
    "resp = await worker_agent.ainvoke({\n",
    "    \"task\": \"Click on 10 of clubs and 10 of hearts\",\n",
    "    \"history_limit\": 15,\n",
    "    \"max_recursions\": 5\n",
    "})\n",
    "\n",
    "resp[\"result\"]"
   ]
  },
  {
   "cell_type": "code",
   "execution_count": 4,
   "id": "f34d41c9",
   "metadata": {},
   "outputs": [
    {
     "data": {
      "text/plain": [
       "{'task': 'Click on select button. It is finished when you reach the hand gameplay screen',\n",
       " 'last_screenshot': HumanMessage(content=[{'type': 'text', 'text': ' Current game state:'}, {'type': 'image_url', 'image_url': {'url': 'data:image/png;base64,iVBORw0KGgoAAAANSUhEUgAAB4AAAAQ4AQAAAADAqPzuAAAAIGNIUk0AAHomAACAhAAA+gAAAIDoAAB1MAAA6mAAADqYAAAXcJy6UTwAAAACYktHRAAB3YoTpAAAARNJREFUeNrtwQENAAAAwqD3T20PBxQAAAAAAAAAAAAAAAAAAAAAAAAAAAAAAAAAAAAAAAAAAAAAAAAAAAAAAAAAAAAAAAAAAAAAAAAAAAAAAAAAAAAAAAAAAAAAAAAAAAAAAAAAAAAAAAAAAAAAAAAAAAAAAAAAAAAAAAAAAAAAAAAAAAAAAAAAAAAAAAAAAAAAAAAAAAAAAAAAAAAAAAAAAAAAAAAAAAAAAAAAAAAAAAAAAAAAAAAAAAAAAAAAAAAAAAAAAAAAAAAAAAAAAAAAAAAAAAAAAAAAAAAAAAAAAAAAAAAAAAAAAAAAAAAAAAAAAAAAAAAAAAAAAAAAAAAAAAAAAAAAAAAAAAAAAAAAAMCnAfjlAAH84Y/+AAAAAElFTkSuQmCC'}}], additional_kwargs={}, response_metadata={}),\n",
       " 'screen_descriptions': ['The screen is completely black with no visible UI elements, indicating the game is either loading, has crashed, or is not displaying any content. No actionable elements are present.'],\n",
       " 'consecutive_duplicates': 0,\n",
       " 'history_limit': 15,\n",
       " 'ai_message': AIMessage(content='CURRENT STATE: The screen is completely black with no visible UI elements. There is no \"select\" button or any other actionable element present.\\nTASK PROGRESS: My task is to click the select button and reach the hand gameplay screen, but there is nothing to interact with at this moment.\\nSCREEN HISTORY: This matches the previous description; it\\'s the first screen and it\\'s not actionable.\\nNEXT ACTION: I cannot proceed until UI elements appear. I will wait for the next screen update.\\n\\nTASK_DONE {\"success\": false, \"reason\": \"impossible\"}', additional_kwargs={'refusal': None}, response_metadata={'token_usage': {'completion_tokens': 112, 'prompt_tokens': 2283, 'total_tokens': 2395, 'completion_tokens_details': {'accepted_prediction_tokens': 0, 'audio_tokens': 0, 'reasoning_tokens': 0, 'rejected_prediction_tokens': 0}, 'prompt_tokens_details': {'audio_tokens': 0, 'cached_tokens': 1280}}, 'model_name': 'gpt-4.1-2025-04-14', 'system_fingerprint': 'fp_c79ab13e31', 'id': 'chatcmpl-C4r6ks3zKXvySQ1WHRkNBOQPOMvez', 'service_tier': None, 'prompt_filter_results': [{'prompt_index': 1, 'content_filter_result': {'sexual': {'filtered': False, 'severity': 'safe'}, 'violence': {'filtered': False, 'severity': 'safe'}, 'hate': {'filtered': False, 'severity': 'safe'}, 'self_harm': {'filtered': False, 'severity': 'safe'}, 'custom_blocklists': {'filtered': False, 'details': []}}}, {'prompt_index': 0, 'content_filter_result': {}}], 'finish_reason': 'stop', 'logprobs': None, 'content_filter_results': {'hate': {'filtered': False, 'severity': 'safe'}, 'protected_material_code': {'filtered': False, 'detected': False}, 'protected_material_text': {'filtered': False, 'detected': False}, 'self_harm': {'filtered': False, 'severity': 'safe'}, 'sexual': {'filtered': False, 'severity': 'safe'}, 'violence': {'filtered': False, 'severity': 'safe'}}}, id='run--d8a38136-75be-4d29-a009-3d3487cba9be-0', usage_metadata={'input_tokens': 2283, 'output_tokens': 112, 'total_tokens': 2395, 'input_token_details': {'audio': 0, 'cache_read': 1280}, 'output_token_details': {'audio': 0, 'reasoning': 0}}),\n",
       " 'done': True,\n",
       " 'result': {'success': False,\n",
       "  'reason': 'no_action',\n",
       "  'iterations': 1,\n",
       "  'description': \"Task 'Click on select button. It is finished when you reach the hand gameplay screen': no action after 1 iterations. Final: The screen is completely black with no visible UI elements, indicating the game is either loading, has crashed, or is not displaying any content. No actionable elements are present.\",\n",
       "  'worker_reasoning': 'CURRENT STATE: The screen is completely black with no visible UI elements. There is no \"select\" button or any other actionable element present.\\nTASK PROGRESS: My task is to click the select button and...'},\n",
       " 'recursion_count': 1,\n",
       " 'max_recursions': 5}"
      ]
     },
     "execution_count": 4,
     "metadata": {},
     "output_type": "execute_result"
    }
   ],
   "source": [
    "resp"
   ]
  },
  {
   "cell_type": "code",
   "execution_count": null,
   "id": "94de45d6",
   "metadata": {},
   "outputs": [
    {
     "name": "stdout",
     "output_type": "stream",
     "text": [
      "\n",
      "=== WORKER LLM INPUT (Iteration 1) ===\n",
      "Total messages: 3 (System + 0 history + Task + Screenshot)\n",
      "Message 2: HumanMessage\n",
      "  Content: {\n",
      "  \"task\": \"Click on any visible button\",\n",
      "  \"all_screen_descriptions\": [\n",
      "    \"The game is in a blin...\n",
      "\n",
      "Message 3: HumanMessage\n",
      "  Text:  Current game state:\n",
      "  Image: [screenshot data]\n",
      "\n",
      "=== END LLM INPUT ===\n",
      "\n",
      "=== WORKER LLM OUTPUT (Iteration 1) ===\n",
      "Content: CURRENT STATE: I see the blind selection menu with visible actionable buttons: \"Select\" (for Small Blind) and \"Skip Blind\". There are also other buttons like \"Run Info\" and \"Options\" on the left panel.\n",
      "TASK PROGRESS: My task is to click on any visible button. Multiple buttons are available.\n",
      "SCREEN HISTORY: This is the first screen, no duplicates.\n",
      "NEXT ACTION: I should locate a visible button and click it. I will choose the \"Select\" button for Small Blind as it is prominent and actionable.\n",
      "\n",
      "Calling locate_element to find the \"Select button\".\n",
      "Tool calls: 1\n",
      "  1. locate_element({'description': 'Select button'})\n",
      "=== END LLM OUTPUT ===\n",
      "\n",
      "\n",
      "=== WORKER LLM INPUT (Iteration 2) ===\n",
      "Total messages: 5 (System + 2 history + Task + Screenshot)\n",
      "Message 2: AIMessage\n",
      "  Content: CURRENT STATE: I see the blind selection menu with visible actionable buttons: \"Select\" (for Small B...\n",
      "  Tool calls: 1\n",
      "    - locate_element({'description': 'Select button'})\n",
      "\n",
      "Message 3: ToolMessage\n",
      "  Content: {\"status\":\"success\",\"result\":{\"<OPEN_VOCABULARY_DETECTION>\":{\"bboxes\":[],\"bboxes_labels\":[],\"polygon...\n",
      "\n",
      "Message 4: HumanMessage\n",
      "  Content: {\n",
      "  \"task\": \"Click on any visible button\",\n",
      "  \"all_screen_descriptions\": [\n",
      "    \"The game is in a blin...\n",
      "\n",
      "Message 5: HumanMessage\n",
      "  Text:  Current game state:\n",
      "  Image: [screenshot data]\n",
      "\n",
      "=== END LLM INPUT ===\n",
      "\n",
      "=== WORKER LLM OUTPUT (Iteration 2) ===\n",
      "Content: \n",
      "Tool calls: 1\n",
      "  1. mouse_click({'x': 689, 'y': 367})\n",
      "=== END LLM OUTPUT ===\n",
      "\n",
      "\n",
      "=== WORKER LLM INPUT (Iteration 3) ===\n",
      "Total messages: 5 (System + 2 history + Task + Screenshot)\n",
      "Message 2: AIMessage\n",
      "  Content: CURRENT STATE: I see the blind selection menu with visible actionable buttons: \"Select\" (for Small B...\n",
      "  Tool calls: 1\n",
      "    - locate_element({'description': 'Select button'})\n",
      "\n",
      "Message 3: ToolMessage\n",
      "  Content: {\"status\":\"success\",\"result\":{\"<OPEN_VOCABULARY_DETECTION>\":{\"bboxes\":[],\"bboxes_labels\":[],\"polygon...\n",
      "\n",
      "Message 4: HumanMessage\n",
      "  Content: {\n",
      "  \"task\": \"Click on any visible button\",\n",
      "  \"all_screen_descriptions\": [\n",
      "    \"The game is in a blin...\n",
      "\n",
      "Message 5: HumanMessage\n",
      "  Text:  Current game state:\n",
      "  Image: [screenshot data]\n",
      "\n",
      "=== END LLM INPUT ===\n",
      "\n",
      "=== WORKER LLM OUTPUT (Iteration 3) ===\n",
      "Content: \n",
      "Tool calls: 1\n",
      "  1. mouse_click({'x': 689, 'y': 367})\n",
      "=== END LLM OUTPUT ===\n",
      "\n"
     ]
    },
    {
     "data": {
      "text/plain": [
       "{'success': False, 'reason': 'max_iterations'}"
      ]
     },
     "execution_count": 4,
     "metadata": {},
     "output_type": "execute_result"
    }
   ],
   "source": [
    "# Prueba con límites más estrictos\n",
    "resp = await worker_agent.ainvoke({\n",
    "    \"task\": \"Click on any visible button\",\n",
    "    \"history_limit\": 5,\n",
    "    \"max_recursions\": 3\n",
    "})\n",
    "\n",
    "resp[\"result\"]"
   ]
  }
 ],
 "metadata": {
  "kernelspec": {
   "display_name": "jokernet",
   "language": "python",
   "name": "python3"
  },
  "language_info": {
   "codemirror_mode": {
    "name": "ipython",
    "version": 3
   },
   "file_extension": ".py",
   "mimetype": "text/x-python",
   "name": "python",
   "nbconvert_exporter": "python",
   "pygments_lexer": "ipython3",
   "version": "3.11.13"
  }
 },
 "nbformat": 4,
 "nbformat_minor": 5
}

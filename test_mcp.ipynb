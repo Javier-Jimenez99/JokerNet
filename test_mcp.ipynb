{
 "cells": [
  {
   "cell_type": "code",
   "execution_count": 1,
   "id": "5a51070a",
   "metadata": {},
   "outputs": [],
   "source": [
    "%load_ext autoreload\n",
    "%autoreload 2"
   ]
  },
  {
   "cell_type": "code",
   "execution_count": 2,
   "id": "18aacccd",
   "metadata": {},
   "outputs": [
    {
     "data": {
      "image/png": "[encoded data removed]",
      "text/plain": [
       "<IPython.core.display.Image object>"
      ]
     },
     "metadata": {},
     "output_type": "display_data"
    }
   ],
   "source": [
    "from src.agents.openai import create_openai_agent\n",
    "from IPython.display import Image, display\n",
    "\n",
    "agent = await create_openai_agent(server_name=\"mouse\")\n",
    "display(Image(agent.get_graph().draw_mermaid_png()))"
   ]
  },
  {
   "cell_type": "code",
   "execution_count": 3,
   "id": "b565d9de",
   "metadata": {},
   "outputs": [
    {
     "data": {
      "text/plain": [
       "dict_keys(['initial_task', 'last_screenshot', 'ai_message', 'last_ai_with_tools', 'last_tool_message', 'messages', 'recursion_count'])"
      ]
     },
     "execution_count": 3,
     "metadata": {},
     "output_type": "execute_result"
    }
   ],
   "source": [
    "prompt = \"\"\"\n",
    "You need to solve this following task. Using the current state screenshot you need to ensure that the task is completed. \n",
    "If you click in any button it returns success if the click was done, but it does not mean the button was pressed because you could failed aiming it, to ensure that check the current state. \n",
    "If you haven't solved the task keep trying until you are completely sure that it is solved.\n",
    "\n",
    "Click on select button and move to the next screen to start playing a hand. Tell me what is the last tool you executed and what is the result. \n",
    "Also describe the screen that you obtain at the end. Is the task completed?\n",
    "\n",
    "This is the position of the select button:\n",
    "{'polygons': [[[576.9599609375, 341.82000732421875, 801.5999755859375, 341.82000732421875, 801.5999755859375, 393.6600036621094, 576.9599609375, 393.6600036621094]]], 'polygons_labels': ['select button']}\n",
    "\"\"\"\n",
    "\n",
    "res = await agent.ainvoke({\"messages\": [{\"role\": \"user\", \"content\": prompt}]})\n",
    "res.keys()"
   ]
  },
  {
   "cell_type": "code",
   "execution_count": 4,
   "id": "7c0ba60b",
   "metadata": {},
   "outputs": [
    {
     "data": {
      "text/plain": [
       "{'tool_calls': [{'id': 'call_imfWO2YJLamZ0C4XyNlw99EN',\n",
       "   'function': {'arguments': '{\"x\":960,\"y\":270}', 'name': 'mouse_click'},\n",
       "   'type': 'function'}],\n",
       " 'refusal': None}"
      ]
     },
     "execution_count": 4,
     "metadata": {},
     "output_type": "execute_result"
    }
   ],
   "source": [
    "res['last_ai_with_tools'].additional_kwargs"
   ]
  },
  {
   "cell_type": "code",
   "execution_count": 12,
   "id": "7d1dd072",
   "metadata": {},
   "outputs": [
    {
     "name": "stdout",
     "output_type": "stream",
     "text": [
      "The last tool I executed was functions.mouse_click at pixel coordinates (960, 270), which is the center of the \"Select\" button for the Small Blind.\n",
      "\n",
      "Result: The click was successful, but the screen state did not change. The game is still on the \"Choose your next Blind\" screen, indicating that the button was not pressed (the click did not register on the button).\n",
      "\n",
      "Screen description:\n",
      "- The game is prompting to choose the next Blind.\n",
      "- \"Select\" button for Small Blind is highlighted.\n",
      "- Big Blind and The Window are upcoming and not selectable.\n",
      "- You have 5 hands, 3 discards, $4, Ante 1/8, Round 0.\n",
      "- The deck shows 52/52 cards.\n",
      "\n",
      "Task status: Not completed. I have not moved to the next screen to start playing a hand. The \"Select\" button needs to be clicked more precisely.\n"
     ]
    }
   ],
   "source": [
    "print(res['ai_message'].content)"
   ]
  },
  {
   "cell_type": "code",
   "execution_count": 1,
   "id": "900aeb38",
   "metadata": {},
   "outputs": [
    {
     "name": "stdout",
     "output_type": "stream",
     "text": [
      "locate_element Locate an element on the screen by a brief description.\n",
      "mouse_click Click at a specific coordinate on the screen using pixel coordinates. Screen resolution: 1920x1080 pixels. Use exact pixel coordinates for precise clicking.\n",
      "mouse_drag Drag the mouse from start coordinates to end coordinates using pixel coordinates. Screen resolution: 1920x1080 pixels. Use exact pixel coordinates for precise dragging.\n",
      "get_screen_with_cursor Get a screenshot with cursor position visible. The cursor is a light green point inside a larger dark green circle, to make it more visible. Use this to see the current game state and plan your next mouse actions using pixel coordinates. Screen resolution: 1920x1080 pixels. \n"
     ]
    }
   ],
   "source": [
    "from langchain_mcp_adapters.client import MultiServerMCPClient\n",
    "\n",
    "client = MultiServerMCPClient({\n",
    "    \"output_handling\":{\"image\":\"content\"},\n",
    "    \"use_standard_content_blocks\": True,\n",
    "    \"mouse\": {\n",
    "        \"transport\": \"streamable_http\",\n",
    "        \"url\": \"http://localhost:8001/mouse/mcp\",\n",
    "    },\n",
    "    \"gamepad\": {\n",
    "        \"transport\": \"streamable_http\",\n",
    "        \"url\": \"http://localhost:8001/gamepad/mcp\"\n",
    "    }\n",
    "})\n",
    "\n",
    "tools = await client.get_tools(server_name=\"mouse\")\n",
    "screen_tool = None\n",
    "locate_tool = None\n",
    "for t in tools:\n",
    "    print(t.name, t.description)\n",
    "    if t.name == \"get_screen_with_cursor\":\n",
    "        screen_tool = t\n",
    "    if t.name == \"locate_element\":\n",
    "        locate_tool = t"
   ]
  },
  {
   "cell_type": "code",
   "execution_count": 11,
   "id": "0bf9b9d0",
   "metadata": {},
   "outputs": [],
   "source": [
    "import json\n",
    "\n",
    "location = json.loads(await locate_tool.arun({\"description\": \"select button\"}))\n",
    "location"
   ]
  },
  {
   "cell_type": "code",
   "execution_count": 12,
   "id": "e0bedd34",
   "metadata": {},
   "outputs": [
    {
     "data": {
      "text/plain": [
       "{'status': 'error',\n",
       " 'message': \"Error locating element: 'Florence2ForConditionalGeneration' object has no attribute '_supports_sdpa'\"}"
      ]
     },
     "execution_count": 12,
     "metadata": {},
     "output_type": "execute_result"
    }
   ],
   "source": [
    "location"
   ]
  },
  {
   "cell_type": "code",
   "execution_count": 2,
   "id": "13474f72",
   "metadata": {},
   "outputs": [
    {
     "name": "stdout",
     "output_type": "stream",
     "text": [
      "dict_keys(['screenshot', 'mouse_info'])\n"
     ]
    }
   ],
   "source": [
    "import json\n",
    "\n",
    "res = json.loads(await screen_tool.ainvoke(input={}))\n",
    "base64_image = res['screenshot'].split(\",\")[1]\n",
    "print(res.keys())"
   ]
  },
  {
   "cell_type": "code",
   "execution_count": 3,
   "id": "cc7ddae8",
   "metadata": {},
   "outputs": [
    {
     "name": "stderr",
     "output_type": "stream",
     "text": [
      "/home/javi/miniconda3/envs/jokernet/lib/python3.11/site-packages/timm/models/layers/__init__.py:48: FutureWarning: Importing from timm.models.layers is deprecated, please import via timm.layers\n",
      "  warnings.warn(f\"Importing from {__name__} is deprecated, please import via timm.layers\", FutureWarning)\n"
     ]
    },
    {
     "name": "stdout",
     "output_type": "stream",
     "text": [
      "{'<OPEN_VOCABULARY_DETECTION>': {'bboxes': [], 'bboxes_labels': [], 'polygons': [[[93.1199951171875, 705.780029296875, 219.83999633789062, 705.780029296875, 219.83999633789062, 853.7400512695312, 93.1199951171875, 853.7400512695312]]], 'polygons_labels': ['run info and options']}}\n"
     ]
    }
   ],
   "source": [
    "import torch\n",
    "from PIL import Image\n",
    "from transformers import AutoProcessor, AutoModelForCausalLM \n",
    "import io\n",
    "import base64\n",
    "\n",
    "device = \"cuda:0\" if torch.cuda.is_available() else \"cpu\"\n",
    "torch_dtype = torch.float16 if torch.cuda.is_available() else torch.float32\n",
    "\n",
    "model = AutoModelForCausalLM.from_pretrained(\"AskUI/PTA-1\", torch_dtype=torch_dtype, trust_remote_code=True).to(device)\n",
    "processor = AutoProcessor.from_pretrained(\"AskUI/PTA-1\", trust_remote_code=True)\n",
    "\n",
    "task_prompt = \"<OPEN_VOCABULARY_DETECTION>\"\n",
    "prompt = task_prompt + \"run info and options\"\n",
    "\n",
    "# Cargar imagen desde base64\n",
    "image_bytes = base64.b64decode(base64_image)\n",
    "image = Image.open(io.BytesIO(image_bytes)).convert(\"RGB\")\n",
    "\n",
    "inputs = processor(text=prompt, images=image, return_tensors=\"pt\").to(device, torch_dtype)\n",
    "\n",
    "generated_ids = model.generate(\n",
    "    input_ids=inputs[\"input_ids\"],\n",
    "    pixel_values=inputs[\"pixel_values\"],\n",
    "    max_new_tokens=1024,\n",
    "    do_sample=False,\n",
    "    num_beams=3,\n",
    ")\n",
    "generated_text = processor.batch_decode(generated_ids, skip_special_tokens=False)[0]\n",
    "\n",
    "parsed_answer = processor.post_process_generation(generated_text, task=\"<OPEN_VOCABULARY_DETECTION>\", image_size=(image.width, image.height))\n",
    "\n",
    "print(parsed_answer)"
   ]
  },
  {
   "cell_type": "code",
   "execution_count": 5,
   "id": "428080a5",
   "metadata": {},
   "outputs": [
    {
     "ename": "UnidentifiedImageError",
     "evalue": "cannot identify image file <_io.BytesIO object at 0x7bbfcaef2d90>",
     "output_type": "error",
     "traceback": [
      "\u001b[31m---------------------------------------------------------------------------\u001b[39m",
      "\u001b[31mUnidentifiedImageError\u001b[39m                    Traceback (most recent call last)",
      "\u001b[36mCell\u001b[39m\u001b[36m \u001b[39m\u001b[32mIn[5]\u001b[39m\u001b[32m, line 12\u001b[39m\n\u001b[32m     10\u001b[39m image_data = image_content[\u001b[32m0\u001b[39m][\u001b[33m\"\u001b[39m\u001b[33mimage_url\u001b[39m\u001b[33m\"\u001b[39m].split(\u001b[33m\"\u001b[39m\u001b[33m,\u001b[39m\u001b[33m\"\u001b[39m)[\u001b[32m1\u001b[39m]\n\u001b[32m     11\u001b[39m image_bytes = base64.b64decode(image_data)\n\u001b[32m---> \u001b[39m\u001b[32m12\u001b[39m \u001b[43mImage\u001b[49m\u001b[43m.\u001b[49m\u001b[43mopen\u001b[49m\u001b[43m(\u001b[49m\u001b[43mio\u001b[49m\u001b[43m.\u001b[49m\u001b[43mBytesIO\u001b[49m\u001b[43m(\u001b[49m\u001b[43mimage_bytes\u001b[49m\u001b[43m)\u001b[49m\u001b[43m)\u001b[49m\n\u001b[32m     14\u001b[39m \u001b[38;5;28mprint\u001b[39m(\u001b[33m\"\u001b[39m\u001b[33mCursor Tool Result:\u001b[39m\u001b[33m\"\u001b[39m, \u001b[38;5;28;01mawait\u001b[39;00m cursor_tool.ainvoke(\u001b[38;5;28minput\u001b[39m={}))\n",
      "\u001b[36mFile \u001b[39m\u001b[32m~/miniconda3/envs/jokernet/lib/python3.11/site-packages/PIL/Image.py:3572\u001b[39m, in \u001b[36mopen\u001b[39m\u001b[34m(fp, mode, formats)\u001b[39m\n\u001b[32m   3570\u001b[39m     warnings.warn(message)\n\u001b[32m   3571\u001b[39m msg = \u001b[33m\"\u001b[39m\u001b[33mcannot identify image file \u001b[39m\u001b[38;5;132;01m%r\u001b[39;00m\u001b[33m\"\u001b[39m % (filename \u001b[38;5;28;01mif\u001b[39;00m filename \u001b[38;5;28;01melse\u001b[39;00m fp)\n\u001b[32m-> \u001b[39m\u001b[32m3572\u001b[39m \u001b[38;5;28;01mraise\u001b[39;00m UnidentifiedImageError(msg)\n",
      "\u001b[31mUnidentifiedImageError\u001b[39m: cannot identify image file <_io.BytesIO object at 0x7bbfcaef2d90>"
     ]
    }
   ],
   "source": [
    "from PIL import Image\n",
    "import json\n",
    "import io\n",
    "import base64\n",
    "\n",
    "tools = await client.get_tools(server_name=\"mouse\")\n",
    "screen_tool = next((t for t in tools if t.name == \"get_screen_with_cursor\"), None)\n",
    "cursor_tool = next((t for t in tools if t.name == \"get_mouse_position\"), None)\n",
    "image_content = json.loads(await screen_tool.ainvoke(input={}))\n",
    "image_data = image_content[0][\"image_url\"].split(\",\")[1]\n",
    "image_bytes = base64.b64decode(image_data)\n",
    "Image.open(io.BytesIO(image_bytes))\n",
    "\n",
    "print(\"Cursor Tool Result:\", await cursor_tool.ainvoke(input={}))"
   ]
  },
  {
   "cell_type": "code",
   "execution_count": 47,
   "id": "fc9da412",
   "metadata": {},
   "outputs": [
    {
     "data": {
      "text/plain": [
       "<fastmcp.utilities.types.Image at 0x791d5b457650>"
      ]
     },
     "execution_count": 47,
     "metadata": {},
     "output_type": "execute_result"
    }
   ],
   "source": [
    "import requests\n",
    "from fastmcp.utilities.types import Image\n",
    "\n",
    "res = requests.get(\"http://localhost:8000/screenshot_with_cursor\")\n",
    "Image(data=res.content, format=\"png\")"
   ]
  }
 ],
 "metadata": {
  "kernelspec": {
   "display_name": "jokernet",
   "language": "python",
   "name": "python3"
  },
  "language_info": {
   "codemirror_mode": {
    "name": "ipython",
    "version": 3
   },
   "file_extension": ".py",
   "mimetype": "text/x-python",
   "name": "python",
   "nbconvert_exporter": "python",
   "pygments_lexer": "ipython3",
   "version": "3.11.13"
  }
 },
 "nbformat": 4,
 "nbformat_minor": 5
}
